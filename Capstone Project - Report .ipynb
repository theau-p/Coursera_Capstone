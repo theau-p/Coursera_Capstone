{
    "cells": [
        {
            "metadata": {
                "collapsed": true
            },
            "cell_type": "markdown",
            "source": "# IBM Applied Data Science Capstone Project\u00b6\n"
        },
        {
            "metadata": {},
            "cell_type": "markdown",
            "source": "# Final Report : *Opening a Gym in London, England*"
        },
        {
            "metadata": {},
            "cell_type": "markdown",
            "source": "## Introduction - Business Problem "
        },
        {
            "metadata": {},
            "cell_type": "markdown",
            "source": "Gyms have recently had a huge increase in attractivity all over the world. That is due to two phenomena: it has become trendy to go to the gym and people also tend to take care more of themselves. Also, the expansion of social media plays a key role because the image that users return becomes more important. "
        },
        {
            "metadata": {},
            "cell_type": "markdown",
            "source": "The benefits on health and shape are great and it is a good solution for people who don't have much time to spend for leisure. Indeed, people often go to gyms that are close to their home. In this capstone project, we will explore the neighborhoods of London in order to decide where are the best places to open a gym or a fitness center. \n"
        },
        {
            "metadata": {},
            "cell_type": "markdown",
            "source": "Before going further, we must underline that there is a difference between a gym and a fitness center. A fitness center is generally larger than an average gym and provides a wider range of services (outdoor activities are often available, some possess a swimming pool...) In this project, we will focus on these two types of sports center in order to get a broader understanding of the way these establishments are implemented in the city. "
        },
        {
            "metadata": {},
            "cell_type": "markdown",
            "source": "By using Data Science and more specifically Machine Learning techniques such as Clustering, we will be able to answer the following question : **Where should an investor open a gym or a fitness center in London ?**"
        },
        {
            "metadata": {},
            "cell_type": "markdown",
            "source": "### *Target audience*"
        },
        {
            "metadata": {},
            "cell_type": "markdown",
            "source": "This capstone project can be very useful for **investors who wish to establish a gym or a fitness center in London**. In this very large and bustling capital, it can be hard to have an idea on where to invest in such infrastructures. Morevover, many investors might have noticed that gyms are becoming more and more trendy and that subscriptions to these establishments keep increasing. However, some of them don't have any expertise in this field of investments so some **insights on this topic** can be very valuable for them. "
        },
        {
            "metadata": {},
            "cell_type": "markdown",
            "source": "## Description of the data "
        },
        {
            "metadata": {},
            "cell_type": "markdown",
            "source": "In this project, we will use **three main types of data** : \n\n- List of neighborhoods in London. We must be careful because we will gather data from \"Greater London\" which is made up of London and its suburbs. We will only focus on London so sorting this data will be necessary. \n\n- Geographical coordinates (latitude & longitude) of these neighborhoods. This is a crucial step to get the venues that are present in each neighborhood. It is also useful to plot maps of London. \n\n- Venue data, especially related to gyms & fitness centers. We will use this data to perform clustering on the neighborhoods, which is an unsupervised machine learning algorithm. "
        },
        {
            "metadata": {},
            "cell_type": "markdown",
            "source": "### *List of neighborhoods in London*"
        },
        {
            "metadata": {},
            "cell_type": "markdown",
            "source": "We will use a Wikipedia page that references all the neighborhoods in Greater London. The url is the following : https://en.wikipedia.org/wiki/List_of_areas_of_London \n\nIn order to collect the information on this web page, a web scraping technique will be used. "
        },
        {
            "metadata": {},
            "cell_type": "markdown",
            "source": "### *Geographical coordinates*"
        },
        {
            "metadata": {},
            "cell_type": "markdown",
            "source": "As we said before, they are necessary to get the venues, which are the heart of our project and the base of our machine learning algorithm. In order to retrieve these coordinates, we use the geocoder library, and especially the Nominatim and geocode modules which allow to do the job by feeding the addresses of the neighborhoods. "
        },
        {
            "metadata": {},
            "cell_type": "markdown",
            "source": "### *Venue data*"
        },
        {
            "metadata": {},
            "cell_type": "markdown",
            "source": "Finally, the collection of venue data is made thanks to the Foursquare API. Foursquare is one of the largest Location Data company and provides information about most places around the globe. Many categories of venues can be found in London, and gyms and fitness centers are among them. We will focus on these two categories to create clusters of neighborhoods. "
        },
        {
            "metadata": {},
            "cell_type": "markdown",
            "source": "## Methodology "
        },
        {
            "metadata": {},
            "cell_type": "markdown",
            "source": "The project's notebook is organized in the following way: \n\n- Collecting & wrangling data\n- Exploring data\n- Machine Learning algorithm \n\nWe will describe each section successively :"
        },
        {
            "metadata": {},
            "cell_type": "markdown",
            "source": "### *Collecting & wrangling data*"
        },
        {
            "metadata": {},
            "cell_type": "markdown",
            "source": "We used a web scraping method to collect the list of neighborhoods in Greater London from a Wikipedia page. However, our area of focus is London only and not its suburb so we sorted the dataframe to keep only the neighborhoods where the Post town is London. We also deleted some attributes that were not useful for our project. "
        },
        {
            "metadata": {},
            "cell_type": "markdown",
            "source": "We faced an issue when trying to drop some columns because a \"Key Error\" kept appearing when calling a column containing a blank space in its name. Indeed, Python did not seem to understand the blank space as one so we had to solve this problem by knowing how Python was seeing the column names. We used df.columns.tolist()) to find the solution. Indeed, a blank space was understood as '\\xa0'."
        },
        {
            "metadata": {},
            "cell_type": "markdown",
            "source": "Then, we used geocoder to get the geographical coordinates of each neighborhood. We built an algorithm that generalized the process of finding the coordinates of all neighborhoods. Once this was accomplished, we merged the tables containing information about the neighborhoods and the one containing the coordinates using the join statement. Also, we dropped the duplicates from that last table. \n"
        },
        {
            "metadata": {},
            "cell_type": "markdown",
            "source": "Finally, we visualized the neighborhoods on a Folium map. At that stage, we realized that some neighborhoods were not in London at all. Some have been found in other parts of the United Kingdoms, in France, or even in the United States. This is most probably because the name of the neighborhoods are the same in other regions of the world. In order to solve this issue, we decided to keep only neighborhoods that truly were in London. We deleted the others. For that, we wrote an algorithm that examined each neighborhood and kept it or deleted it depending on conditions on the latitude and longitude. "
        },
        {
            "metadata": {},
            "cell_type": "markdown",
            "source": "### *Exploring data*"
        },
        {
            "metadata": {},
            "cell_type": "markdown",
            "source": "After the data was cleaned, we made API calls to retrieve the venues in each neighborhood. To do so, we used the Foursquare API. We chose a radius of 700 m because London is a big city. We created a function to generalize the process of retrieving venues of all neighborhoods of London. By printing the shape of the dataframe containing the venues, we noted a total of 12252 venues. "
        },
        {
            "metadata": {},
            "cell_type": "markdown",
            "source": "We displayed all the categories of venues that were present in each neighborhood. Then, using that dataframe, we built a dataframe containing frequency of occurence of the categories \"gym\" and \"fitness centers\" in each neighborhood. This will be used for clustering."
        },
        {
            "metadata": {},
            "cell_type": "markdown",
            "source": "### *Machine Learning algorithm*"
        },
        {
            "metadata": {},
            "cell_type": "markdown",
            "source": "The machine learning algorithm that we used is k-means. It is an algorithm of unsupervised learning and it creates k clusters."
        },
        {
            "metadata": {},
            "cell_type": "markdown",
            "source": "The first step was to find the best value for k. The dataframe that we used was composed of the attributes \"gym\" and \"fitness center\" containing their frequency of occurence in each neighborhood. We applied the k-means algorithm for different values of k (from 1 to 10) and each time we computed the mean squared error (MSE). We then plotted the MSE as a function of k and we got a downward curve. The optimal value of k corresponds to the elbow of the curve, which happenned to be for k=4. "
        },
        {
            "metadata": {},
            "cell_type": "markdown",
            "source": "After that, we applied k-means for k=4 and we plotted the different clusters on a Folium map. Finally, we wanted to have a better understanding of theses clusters so we looked at each one of them with the top 10 venues for each neighborhood. It helped us understand how the algorithm partitionned the data. "
        },
        {
            "metadata": {},
            "cell_type": "markdown",
            "source": "## Results "
        },
        {
            "metadata": {},
            "cell_type": "markdown",
            "source": "Cluster 0 contains neighborhoods with a good amount of gyms, whereas Cluster 1 contains neighborhoods with a few fitness centers or gyms. Cluster 2 regroups all the neighborhoods with no gyms or fitness centers. Finally, Cluster 3 is constituted of neighborhoods with many fitness centers.\n\nLet's recall that there is a difference between a gym and a fitness center. Indeed, a fitness center is generally larger than an average gym and provides a wider range of services (outdoor activities are often available, sometimes there are swimming pools...)\n\nBy examining the last folium map, we notice that the very heart of London is composed of neighborhoods belonging to Cluster 2 (in green). Just beyond the capital's heart, most of the neighborhoods belong to Cluster 1 (in purple). Finally, at the limits of the city, we can find the neighborhoods belonging to Cluster 3 (in yellow) and 0 (in red). In other words, there are very few or no gyms in the historical heart of the city and the farther you get from the center of town, the more there are gyms. This organization in \"circular layers\" can be explained by different factors but mainly because of the lack of space in the heart of the city, which pushes investors to establish gyms in places with more space and where property prices are lower. In places where the urban density is lower, fitness centers, which require a big surface, can be found in greater number."
        },
        {
            "metadata": {},
            "cell_type": "markdown",
            "source": "## Discussion "
        },
        {
            "metadata": {},
            "cell_type": "markdown",
            "source": "In this project, we only considered the frequency of occurence of gyms and fitness centers in order to answer the question. However, in order to get a more accurate model (and thus a more accurate answer) more parameters should be taken into account. Indeed, the mean income of residents can have an influence as a yearly subscription to a gym can be expensive. Morevoer, property prices could be a very meaningful feature to include in our model as gyms and fitness center occupy a large space: very expensive areas will be less conducive to development. "
        },
        {
            "metadata": {},
            "cell_type": "markdown",
            "source": "## Conclusion "
        },
        {
            "metadata": {},
            "cell_type": "markdown",
            "source": "Altough this model is not the most complex, some meaningful insights have been highlighted. "
        },
        {
            "metadata": {},
            "cell_type": "markdown",
            "source": "If an investor wishes to invest in a gym, it will be very hard to find a spot in the heart of London. However, if such an opportunity exists, it could be great as there are almost no gyms in this part of London. It will be easier to invest just beyond the heart of London as most gyms are situated in this area. There will most probably be demand as the big amount of gyms in this sector testifies it. However, if the investor has a lot of funds to invest, he could even build a fitness center on the outskirts of London, which is bigger than an average gym and provides more services. "
        }
    ],
    "metadata": {
        "kernelspec": {
            "name": "python3",
            "display_name": "Python 3.6",
            "language": "python"
        },
        "language_info": {
            "name": "python",
            "version": "3.6.9",
            "mimetype": "text/x-python",
            "codemirror_mode": {
                "name": "ipython",
                "version": 3
            },
            "pygments_lexer": "ipython3",
            "nbconvert_exporter": "python",
            "file_extension": ".py"
        }
    },
    "nbformat": 4,
    "nbformat_minor": 1
}