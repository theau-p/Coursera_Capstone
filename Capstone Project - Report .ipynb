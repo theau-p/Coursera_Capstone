{
    "cells": [
        {
            "metadata": {
                "collapsed": true
            },
            "cell_type": "markdown",
            "source": "# IBM Applied Data Science Capstone Project\u00b6\n"
        },
        {
            "metadata": {},
            "cell_type": "markdown",
            "source": "# Final Report : Opening a Gym in London, England "
        },
        {
            "metadata": {},
            "cell_type": "markdown",
            "source": "## Introduction - Business Problem "
        },
        {
            "metadata": {},
            "cell_type": "markdown",
            "source": "Gyms have recently had a huge increase in attractivity all over the world. That is due to two phenomena: it has become trendy to go to the gym and people also tend to take care more of themselves. Also, the expansion of social media plays a key role because the image that users return becomes more important. "
        },
        {
            "metadata": {},
            "cell_type": "markdown",
            "source": "The benefits on health and shape are great and it is a good solution for people who don't have much time to spend for leisure. Indeed, people often go to gyms that are close to their home. In this capstone project, we will explore the neighborhoods of London in order to decide where are the best places to open a gym or a fitness center. \n"
        },
        {
            "metadata": {},
            "cell_type": "markdown",
            "source": "Before going further, we must underline that there is a difference between a gym and a fitness center. A fitness center is generally larger than an average gym and provides a wider range of services (outdoor activities are often available, some possess a swimming pool...) In this project, we will focus on these two types of sports center in order to get a broader understanding of the way these establishments are implemented in the city. "
        },
        {
            "metadata": {},
            "cell_type": "markdown",
            "source": "By using Data Science and more specifically Machine Learning techniques such as Clustering, we will be able to answer the following question : **Where should an investor open a gym or a fitness center in London ?**"
        },
        {
            "metadata": {},
            "cell_type": "markdown",
            "source": "### Target audience "
        },
        {
            "metadata": {},
            "cell_type": "markdown",
            "source": "This capstone project can be very useful for **investors who wish to establish a gym or a fitness center in London**. In this very large and bustling capital, it can be hard to have an idea on where to invest in such infrastructures. Morevover, many investors might have noticed that gyms are becoming more and more trendy and that subscriptions to these establishments keep increasing. However, some of them don't have any expertise in this field of investments so some **insights on this topic** can be very valuable for them. "
        },
        {
            "metadata": {},
            "cell_type": "markdown",
            "source": "## Description of the data "
        },
        {
            "metadata": {},
            "cell_type": "markdown",
            "source": "In this project, we will use **three main types of data** : \n\n- List of neighborhoods in London. We must be careful because we will gather data from \"Greater London\" which is made up of London and its suburbs. We will only focus on London so sorting this data will be necessary. \n\n- Geographical coordinates (latitude & longitude) of these neighborhoods. This is a crucial step to get the venues that are present in each neighborhood. It is also useful to plot maps of London. \n\n- Venue data, especially related to gyms & fitness centers. We will use this data to perform clustering on the neighborhoods, which is an unsupervised machine learning algorithm. "
        },
        {
            "metadata": {},
            "cell_type": "markdown",
            "source": "### List of neighborhoods in London "
        },
        {
            "metadata": {},
            "cell_type": "markdown",
            "source": "We will use a Wikipedia page that references all the neighborhoods in Greater London. The url is the following : https://en.wikipedia.org/wiki/List_of_areas_of_London \n\nIn order to collect the information on this web page, a web scraping technique will be used. "
        },
        {
            "metadata": {},
            "cell_type": "markdown",
            "source": "### Geographical coordinates"
        },
        {
            "metadata": {},
            "cell_type": "markdown",
            "source": "As we said before, they are necessary to get the venues, which are the heart of our project and the base of our machine learning algorithm. In order to retrieve these coordinates, we use the geocoder library, and especially the Nominatim and geocode modules which allow to do the job by feeding the addresses of the neighborhoods. "
        },
        {
            "metadata": {},
            "cell_type": "markdown",
            "source": "### Venue data "
        },
        {
            "metadata": {},
            "cell_type": "markdown",
            "source": "Finally, the collection of venue data is made thanks to the Foursquare API. Foursquare is one of the largest Location Data company and provides information about most places around the globe. Many categories of venues can be found in London, and gyms and fitness centers are among them. We will focus on these two categories to create clusters of neighborhoods. "
        },
        {
            "metadata": {},
            "cell_type": "markdown",
            "source": "## Methodology "
        },
        {
            "metadata": {},
            "cell_type": "code",
            "source": "#This section will be used for week 5. ",
            "execution_count": 4,
            "outputs": []
        },
        {
            "metadata": {},
            "cell_type": "markdown",
            "source": "## Results "
        },
        {
            "metadata": {},
            "cell_type": "code",
            "source": "#This section will be used for week 5. ",
            "execution_count": 3,
            "outputs": []
        },
        {
            "metadata": {},
            "cell_type": "markdown",
            "source": "## Discussion - Future Improvements"
        },
        {
            "metadata": {},
            "cell_type": "code",
            "source": "#This section will be used for week 5. ",
            "execution_count": 2,
            "outputs": []
        },
        {
            "metadata": {},
            "cell_type": "markdown",
            "source": "## Conclusion "
        },
        {
            "metadata": {},
            "cell_type": "code",
            "source": "#This section will be used for week 5. ",
            "execution_count": 1,
            "outputs": []
        },
        {
            "metadata": {},
            "cell_type": "code",
            "source": "",
            "execution_count": null,
            "outputs": []
        }
    ],
    "metadata": {
        "kernelspec": {
            "name": "python3",
            "display_name": "Python 3.6",
            "language": "python"
        },
        "language_info": {
            "name": "python",
            "version": "3.6.9",
            "mimetype": "text/x-python",
            "codemirror_mode": {
                "name": "ipython",
                "version": 3
            },
            "pygments_lexer": "ipython3",
            "nbconvert_exporter": "python",
            "file_extension": ".py"
        }
    },
    "nbformat": 4,
    "nbformat_minor": 1
}